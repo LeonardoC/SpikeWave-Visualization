{
 "cells": [
  {
   "cell_type": "markdown",
   "metadata": {},
   "source": [
    "EEG Spike-Wave visualization tool\n",
    "Copyright (C) 2023  Leonardo Cañete-Sifuentes, Azul Salmerón Ruiz, Lizbeth Becerril Belio \n",
    "\n",
    "This program is free software: you can redistribute it and/or modify\n",
    "it under the terms of the GNU General Public License as published by\n",
    "the Free Software Foundation, either version 3 of the License, or\n",
    "(at your option) any later version.\n",
    "\n",
    "This program is distributed in the hope that it will be useful,\n",
    "but WITHOUT ANY WARRANTY; without even the implied warranty of\n",
    "MERCHANTABILITY or FITNESS FOR A PARTICULAR PURPOSE.  See the\n",
    "GNU General Public License for more details.\n",
    "\n",
    "You should have received a copy of the GNU General Public License\n",
    "along with this program.  If not, see <https://www.gnu.org/licenses/>.\n",
    "\n",
    "Repository: https://github.com/LeonardoC/SpikeWave-Visualization"
   ]
  },
  {
   "cell_type": "code",
   "execution_count": 1,
   "metadata": {},
   "outputs": [],
   "source": [
    "import pandas as pd\n",
    "from linelength_event_detector.lleventdetector import *\n",
    "from linelength_event_detector.lltransform import *\n",
    "import plotly.express as px\n",
    "import plotly.graph_objects as go\n",
    "from process_data import *"
   ]
  },
  {
   "cell_type": "code",
   "execution_count": 2,
   "metadata": {},
   "outputs": [],
   "source": [
    "data = pd.read_csv(r'C:/Users/L03109567/Desktop/LNHV- Análisis/E3,4,5,6/LB 1/LB 1.csv', header = None)\n",
    "data = data.to_numpy()\n",
    "data = data.transpose()"
   ]
  },
  {
   "cell_type": "code",
   "execution_count": 3,
   "metadata": {},
   "outputs": [],
   "source": [
    "sfx = 500 # Sampling frequency\n",
    "mel = 500 # Minimum event length (milliseconds)\n",
    "prc = 99\n",
    "llw = 1\n",
    "events = detect_events(data, 0, sfx, mel, llw, prc) \n",
    "subject_windows, subject_channels = split_events(events)"
   ]
  },
  {
   "cell_type": "code",
   "execution_count": 4,
   "metadata": {},
   "outputs": [
    {
     "data": {
      "text/plain": [
       "array([[5.788000e+03, 6.153000e+03, 2.000000e+00],\n",
       "       [5.816000e+03, 6.315000e+03, 1.000000e+00],\n",
       "       [6.411000e+03, 6.918000e+03, 1.000000e+00],\n",
       "       [7.090400e+04, 7.124800e+04, 1.000000e+00],\n",
       "       [7.216900e+04, 7.272000e+04, 1.000000e+00],\n",
       "       [7.217600e+04, 7.262000e+04, 2.000000e+00],\n",
       "       [2.128640e+05, 2.138040e+05, 1.000000e+00],\n",
       "       [2.128730e+05, 2.138120e+05, 2.000000e+00],\n",
       "       [2.150290e+05, 2.154610e+05, 1.000000e+00],\n",
       "       [2.150800e+05, 2.155170e+05, 2.000000e+00],\n",
       "       [2.279310e+05, 2.283270e+05, 1.000000e+00],\n",
       "       [2.279360e+05, 2.282790e+05, 2.000000e+00],\n",
       "       [8.446320e+05, 8.452690e+05, 1.000000e+00],\n",
       "       [8.446320e+05, 8.451950e+05, 2.000000e+00],\n",
       "       [8.459280e+05, 8.464950e+05, 2.000000e+00],\n",
       "       [8.459450e+05, 8.465060e+05, 1.000000e+00],\n",
       "       [8.644930e+05, 8.650540e+05, 1.000000e+00],\n",
       "       [8.645520e+05, 8.649870e+05, 2.000000e+00],\n",
       "       [8.857790e+05, 8.865200e+05, 2.000000e+00],\n",
       "       [8.858460e+05, 8.865950e+05, 1.000000e+00],\n",
       "       [1.117877e+06, 1.118556e+06, 1.000000e+00],\n",
       "       [1.118101e+06, 1.118545e+06, 2.000000e+00],\n",
       "       [1.119440e+06, 1.120070e+06, 2.000000e+00],\n",
       "       [1.119574e+06, 1.119915e+06, 1.000000e+00],\n",
       "       [1.129816e+06, 1.130249e+06, 2.000000e+00],\n",
       "       [1.131145e+06, 1.131451e+06, 2.000000e+00],\n",
       "       [1.131152e+06, 1.131525e+06, 1.000000e+00],\n",
       "       [1.178852e+06, 1.179123e+06, 2.000000e+00],\n",
       "       [1.194274e+06, 1.195314e+06, 2.000000e+00],\n",
       "       [1.194345e+06, 1.195308e+06, 1.000000e+00],\n",
       "       [1.196489e+06, 1.197118e+06, 2.000000e+00],\n",
       "       [1.196612e+06, 1.197050e+06, 1.000000e+00],\n",
       "       [1.199728e+06, 1.200290e+06, 2.000000e+00],\n",
       "       [1.199841e+06, 1.200221e+06, 1.000000e+00],\n",
       "       [1.214446e+06, 1.214776e+06, 2.000000e+00],\n",
       "       [1.270783e+06, 1.271116e+06, 2.000000e+00],\n",
       "       [1.270784e+06, 1.271119e+06, 1.000000e+00],\n",
       "       [1.342787e+06, 1.343575e+06, 2.000000e+00],\n",
       "       [1.342858e+06, 1.343585e+06, 1.000000e+00],\n",
       "       [1.344443e+06, 1.344960e+06, 2.000000e+00],\n",
       "       [1.344516e+06, 1.345215e+06, 1.000000e+00],\n",
       "       [1.395091e+06, 1.395419e+06, 2.000000e+00],\n",
       "       [1.395143e+06, 1.395565e+06, 1.000000e+00],\n",
       "       [1.410572e+06, 1.411069e+06, 2.000000e+00],\n",
       "       [1.594195e+06, 1.594547e+06, 1.000000e+00],\n",
       "       [1.706536e+06, 1.707658e+06, 2.000000e+00],\n",
       "       [1.706735e+06, 1.707501e+06, 1.000000e+00],\n",
       "       [1.707729e+06, 1.708474e+06, 1.000000e+00],\n",
       "       [1.707834e+06, 1.708451e+06, 2.000000e+00],\n",
       "       [1.739554e+06, 1.740361e+06, 1.000000e+00],\n",
       "       [1.739728e+06, 1.740296e+06, 2.000000e+00],\n",
       "       [1.740502e+06, 1.741092e+06, 1.000000e+00],\n",
       "       [1.774646e+06, 1.775244e+06, 2.000000e+00],\n",
       "       [1.774689e+06, 1.775316e+06, 1.000000e+00],\n",
       "       [1.775588e+06, 1.776098e+06, 1.000000e+00],\n",
       "       [1.776263e+06, 1.776770e+06, 1.000000e+00]])"
      ]
     },
     "execution_count": 4,
     "metadata": {},
     "output_type": "execute_result"
    }
   ],
   "source": [
    "events"
   ]
  },
  {
   "cell_type": "code",
   "execution_count": 5,
   "metadata": {},
   "outputs": [
    {
     "data": {
      "text/plain": [
       "array([ 3, -4, -1,  7, -7, -1])"
      ]
     },
     "execution_count": 5,
     "metadata": {},
     "output_type": "execute_result"
    }
   ],
   "source": [
    "def detect_hill(x):\n",
    "    a, b = x\n",
    "    return a <= 0 and b > 0\n",
    "test_list = [4, 7, 3, 2, 9, 2, 1]\n",
    "diffs = np.diff(test_list)\n",
    "diffs"
   ]
  },
  {
   "cell_type": "code",
   "execution_count": 22,
   "metadata": {},
   "outputs": [],
   "source": [
    "hills = list(map(detect_hill, zip(diffs[:-1], diffs[1:])))"
   ]
  },
  {
   "cell_type": "code",
   "execution_count": 23,
   "metadata": {},
   "outputs": [
    {
     "data": {
      "text/plain": [
       "1"
      ]
     },
     "execution_count": 23,
     "metadata": {},
     "output_type": "execute_result"
    }
   ],
   "source": [
    "sum(hills)"
   ]
  }
 ],
 "metadata": {
  "kernelspec": {
   "display_name": "Python 3 (ipykernel)",
   "language": "python",
   "name": "python3"
  },
  "language_info": {
   "codemirror_mode": {
    "name": "ipython",
    "version": 3
   },
   "file_extension": ".py",
   "mimetype": "text/x-python",
   "name": "python",
   "nbconvert_exporter": "python",
   "pygments_lexer": "ipython3",
   "version": "3.10.11"
  },
  "orig_nbformat": 4
 },
 "nbformat": 4,
 "nbformat_minor": 2
}
